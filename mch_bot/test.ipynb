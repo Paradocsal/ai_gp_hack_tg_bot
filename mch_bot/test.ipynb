{
 "cells": [
  {
   "cell_type": "code",
   "execution_count": 2,
   "metadata": {
    "collapsed": true,
    "ExecuteTime": {
     "end_time": "2023-08-12T15:53:01.871618121Z",
     "start_time": "2023-08-12T15:53:01.278125929Z"
    }
   },
   "outputs": [
    {
     "data": {
      "text/plain": "0        platform                                campaign_name  \\\n1   yandex direct  венарус | фармацевты | баннеры | база брефи   \n2   yandex direct  венарус | фармацевты | баннеры | база брефи   \n3   yandex direct  венарус | фармацевты | баннеры | база брефи   \n4   yandex direct  венарус | фармацевты | баннеры | база брефи   \n5   yandex direct  венарус | фармацевты | баннеры | база брефи   \n6   yandex direct  венарус | фармацевты | баннеры | база брефи   \n7   yandex direct  венарус | фармацевты | баннеры | база брефи   \n8   yandex direct  венарус | фармацевты | баннеры | база брефи   \n9   yandex direct  венарус | фармацевты | баннеры | база брефи   \n11  yandex direct  венарус | фармацевты | баннеры | база брефи   \n12  yandex direct  венарус | фармацевты | баннеры | база брефи   \n13  yandex direct  венарус | фармацевты | баннеры | база брефи   \n\n0                  date  impressions  clicks drug_name adv_format  \n1   2023-08-12 00:00:00        35423     109   venarus     banner  \n2   2023-08-13 00:00:00        13654     159   venarus     banner  \n3   2023-08-14 00:00:00        20100      58   venarus     banner  \n4   2023-08-15 00:00:00         3459      31   venarus     banner  \n5   2023-08-16 00:00:00         4061      29   venarus     banner  \n6   2023-08-17 00:00:00          103       2   venarus     banner  \n7   2023-08-18 00:00:00         6115      50   venarus     banner  \n8   2023-08-19 00:00:00         1635      27   venarus     banner  \n9   2023-08-20 00:00:00         1129       9   venarus     banner  \n11  2023-08-22 00:00:00          414       7   venarus     banner  \n12  2023-08-23 00:00:00         2040      13   venarus     banner  \n13  2023-08-24 00:00:00        37775      69   venarus     banner  ",
      "text/html": "<div>\n<style scoped>\n    .dataframe tbody tr th:only-of-type {\n        vertical-align: middle;\n    }\n\n    .dataframe tbody tr th {\n        vertical-align: top;\n    }\n\n    .dataframe thead th {\n        text-align: right;\n    }\n</style>\n<table border=\"1\" class=\"dataframe\">\n  <thead>\n    <tr style=\"text-align: right;\">\n      <th></th>\n      <th>platform</th>\n      <th>campaign_name</th>\n      <th>date</th>\n      <th>impressions</th>\n      <th>clicks</th>\n      <th>drug_name</th>\n      <th>adv_format</th>\n    </tr>\n  </thead>\n  <tbody>\n    <tr>\n      <th>1</th>\n      <td>yandex direct</td>\n      <td>венарус | фармацевты | баннеры | база брефи</td>\n      <td>2023-08-12 00:00:00</td>\n      <td>35423</td>\n      <td>109</td>\n      <td>venarus</td>\n      <td>banner</td>\n    </tr>\n    <tr>\n      <th>2</th>\n      <td>yandex direct</td>\n      <td>венарус | фармацевты | баннеры | база брефи</td>\n      <td>2023-08-13 00:00:00</td>\n      <td>13654</td>\n      <td>159</td>\n      <td>venarus</td>\n      <td>banner</td>\n    </tr>\n    <tr>\n      <th>3</th>\n      <td>yandex direct</td>\n      <td>венарус | фармацевты | баннеры | база брефи</td>\n      <td>2023-08-14 00:00:00</td>\n      <td>20100</td>\n      <td>58</td>\n      <td>venarus</td>\n      <td>banner</td>\n    </tr>\n    <tr>\n      <th>4</th>\n      <td>yandex direct</td>\n      <td>венарус | фармацевты | баннеры | база брефи</td>\n      <td>2023-08-15 00:00:00</td>\n      <td>3459</td>\n      <td>31</td>\n      <td>venarus</td>\n      <td>banner</td>\n    </tr>\n    <tr>\n      <th>5</th>\n      <td>yandex direct</td>\n      <td>венарус | фармацевты | баннеры | база брефи</td>\n      <td>2023-08-16 00:00:00</td>\n      <td>4061</td>\n      <td>29</td>\n      <td>venarus</td>\n      <td>banner</td>\n    </tr>\n    <tr>\n      <th>6</th>\n      <td>yandex direct</td>\n      <td>венарус | фармацевты | баннеры | база брефи</td>\n      <td>2023-08-17 00:00:00</td>\n      <td>103</td>\n      <td>2</td>\n      <td>venarus</td>\n      <td>banner</td>\n    </tr>\n    <tr>\n      <th>7</th>\n      <td>yandex direct</td>\n      <td>венарус | фармацевты | баннеры | база брефи</td>\n      <td>2023-08-18 00:00:00</td>\n      <td>6115</td>\n      <td>50</td>\n      <td>venarus</td>\n      <td>banner</td>\n    </tr>\n    <tr>\n      <th>8</th>\n      <td>yandex direct</td>\n      <td>венарус | фармацевты | баннеры | база брефи</td>\n      <td>2023-08-19 00:00:00</td>\n      <td>1635</td>\n      <td>27</td>\n      <td>venarus</td>\n      <td>banner</td>\n    </tr>\n    <tr>\n      <th>9</th>\n      <td>yandex direct</td>\n      <td>венарус | фармацевты | баннеры | база брефи</td>\n      <td>2023-08-20 00:00:00</td>\n      <td>1129</td>\n      <td>9</td>\n      <td>venarus</td>\n      <td>banner</td>\n    </tr>\n    <tr>\n      <th>11</th>\n      <td>yandex direct</td>\n      <td>венарус | фармацевты | баннеры | база брефи</td>\n      <td>2023-08-22 00:00:00</td>\n      <td>414</td>\n      <td>7</td>\n      <td>venarus</td>\n      <td>banner</td>\n    </tr>\n    <tr>\n      <th>12</th>\n      <td>yandex direct</td>\n      <td>венарус | фармацевты | баннеры | база брефи</td>\n      <td>2023-08-23 00:00:00</td>\n      <td>2040</td>\n      <td>13</td>\n      <td>venarus</td>\n      <td>banner</td>\n    </tr>\n    <tr>\n      <th>13</th>\n      <td>yandex direct</td>\n      <td>венарус | фармацевты | баннеры | база брефи</td>\n      <td>2023-08-24 00:00:00</td>\n      <td>37775</td>\n      <td>69</td>\n      <td>venarus</td>\n      <td>banner</td>\n    </tr>\n  </tbody>\n</table>\n</div>"
     },
     "execution_count": 2,
     "metadata": {},
     "output_type": "execute_result"
    }
   ],
   "source": [
    "import sys\n",
    "import pandas as pd\n",
    "\n",
    "sys.path.insert(0, '../')\n",
    "\n",
    "from google_sheets_parser.google_sheets_parser import GSheetsParser\n",
    "\n",
    "\n",
    "def get_best_ctr(df):\n",
    "    df['campaign_name'] = df['campaign_name'].str.lower()\n",
    "\n",
    "    df.loc[:, 'date'] = pd.to_datetime(df['date'], format='%m/%d/%Y')\n",
    "    df['impressions'] = pd.to_numeric(df['impressions'], errors='coerce').fillna(0)\n",
    "    df['clicks'] = pd.to_numeric(df['clicks'], errors='coerce').fillna(0)\n",
    "\n",
    "    df = df.drop('campaign_id', axis=1)\n",
    "    df = df[(df['clicks'] > 0) | (df['impressions'] > 100)]\n",
    "    df = df.drop(df.loc[df['impressions'] < df['clicks']].index)\n",
    "\n",
    "    df.loc[(df.campaign_name.str.contains('dexonal')) | (\n",
    "        df.campaign_name.str.contains('дексонал')), 'drug_name'] = 'dexonal'\n",
    "    df.loc[(df.campaign_name.str.contains('диклофенак')) | (\n",
    "        df.campaign_name.str.contains('diclofena')), 'drug_name'] = 'diclofenac_akos'\n",
    "    df.loc[(df.campaign_name.str.contains('maxilac')) | (\n",
    "        df.campaign_name.str.contains('максилак')), 'drug_name'] = 'maxilac'\n",
    "    df.loc[(df.campaign_name.str.contains('кагоцел')) | (\n",
    "        df.campaign_name.str.contains('kagocel')), 'drug_name'] = 'kagocel'\n",
    "    df.loc[(df.campaign_name.str.contains('венарус')) | (\n",
    "        df.campaign_name.str.contains('venarus')), 'drug_name'] = 'venarus'\n",
    "    df.loc[(df.campaign_name.str.contains('необутин')) | (\n",
    "        df.campaign_name.str.contains('neobutin')), 'drug_name'] = 'neobutin'\n",
    "    df.loc[(df.campaign_name.str.contains('эльмуцин')) | (\n",
    "        df.campaign_name.str.contains('elmucin')), 'drug_name'] = 'elmucin'\n",
    "    df.loc[(df.campaign_name.str.contains('парацитолгин')) | (\n",
    "        df.campaign_name.str.contains('paracitolgin')), 'drug_name'] = 'paracitolgin'\n",
    "    df.loc[(df.campaign_name.str.contains('акнауцер')) | (\n",
    "        df.campaign_name.str.contains('aknaucer')), 'drug_name'] = 'aknaucer'\n",
    "    df.loc[df['drug_name'].isna(), 'drug_name'] = 'none'\n",
    "\n",
    "    df.loc[(df.campaign_name.str.contains('carousel')) | (\n",
    "        df.campaign_name.str.contains('carusel')), 'adv_format'] = 'carousel'\n",
    "    df.loc[\n",
    "        (df.campaign_name.str.contains('баннеры')) | (df.campaign_name.str.contains('banner')), 'adv_format'] = 'banner'\n",
    "    df.loc[(df.campaign_name.str.contains('video')) | (df.campaign_name.str.contains('видео')), 'adv_format'] = 'video'\n",
    "    df.loc[(df.campaign_name.str.contains('multiformat')), 'adv_format'] = 'multiformat'\n",
    "    df.loc[~((df.campaign_name.str.contains('carousel')) | (df.campaign_name.str.contains('carusel')) |\n",
    "             (df.campaign_name.str.contains('баннеры')) | (df.campaign_name.str.contains('banner')) |\n",
    "             (df.campaign_name.str.contains('video')) | (df.campaign_name.str.contains('видео')) |\n",
    "             (df.campaign_name.str.contains('multiformat'))), 'adv_format'] = 'others'\n",
    "\n",
    "    return df\n",
    "    # grouped_sum = df.groupby(['drug_name', 'adv_format'])[['clicks', 'impressions']].sum().reset_index()\n",
    "    # grouped_sum['click_rate'] = grouped_sum['clicks'] / grouped_sum['impressions']\n",
    "    #\n",
    "    # return grouped_sum.loc[(grouped_sum.drug_name != 'none') & (grouped_sum.adv_format != 'others')].sort_values(\n",
    "    #     by='click_rate', ascending=False).head(count)\n",
    "\n",
    "\n",
    "parser = GSheetsParser('https://docs.google.com/spreadsheets/d/1AcAuR951KcHvMK1JIJJ_BThaO1r1PtkiBJBsRGYTlSw/edit#gid=0')\n",
    "\n",
    "raw_data = pd.DataFrame(parser.parse())\n",
    "raw_data.columns = raw_data.iloc[0]\n",
    "raw_data = raw_data.drop(raw_data.index[0])\n",
    "\n",
    "get_best_ctr(raw_data)\n"
   ]
  }
 ],
 "metadata": {
  "kernelspec": {
   "display_name": "Python 3",
   "language": "python",
   "name": "python3"
  },
  "language_info": {
   "codemirror_mode": {
    "name": "ipython",
    "version": 2
   },
   "file_extension": ".py",
   "mimetype": "text/x-python",
   "name": "python",
   "nbconvert_exporter": "python",
   "pygments_lexer": "ipython2",
   "version": "2.7.6"
  }
 },
 "nbformat": 4,
 "nbformat_minor": 0
}
